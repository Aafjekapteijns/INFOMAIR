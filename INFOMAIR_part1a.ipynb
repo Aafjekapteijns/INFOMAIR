{
 "cells": [
  {
   "cell_type": "code",
   "execution_count": 37,
   "metadata": {},
   "outputs": [],
   "source": [
    "import pandas as pd\n",
    "import matplotlib.pyplot as plt \n",
    "import numpy as np\n",
    "import math\n",
    "from sklearn import model_selection"
   ]
  },
  {
   "cell_type": "code",
   "execution_count": 42,
   "metadata": {},
   "outputs": [
    {
     "name": "stdout",
     "output_type": "stream",
     "text": [
      "[['inform' 'im looking for a moderately priced restaurant that serves']\n",
      " ['inform' 'any part of town']\n",
      " ['inform' 'bistro food']\n",
      " ..., \n",
      " ['inform' 'im looking for african food']\n",
      " ['request' 'whats the address and phone number']\n",
      " ['thankyou' 'thank you good bye']]\n"
     ]
    }
   ],
   "source": [
    "# Loading the data for the dialog acts and utterance contents\n",
    "dialog_acts = open(\"dialog_acts.dat\", 'r')\n",
    "\n",
    "# Read in data, convert to lowercase strings\n",
    "dialog_list = []\n",
    "for line in dialog_acts: \n",
    "    line = line.strip()\n",
    "    line = line.lower()\n",
    "    act = line.split(' ')[0]\n",
    "    cont = line[(len(act) + 1):]\n",
    "    dialog_list.append([act, cont])\n",
    "\n",
    "dialog_acts = np.array(dialog_list)\n",
    "print(dialog_acts)"
   ]
  },
  {
   "cell_type": "code",
   "execution_count": 52,
   "metadata": {},
   "outputs": [
    {
     "name": "stdout",
     "output_type": "stream",
     "text": [
      "(25501, 1)\n"
     ]
    }
   ],
   "source": [
    "# Function for splitting arrays in X and r\n",
    "def split(data):\n",
    "    return(data[:, 0, None], data[:, 1, None])\n",
    "\n",
    "acts, contents = split(dialog_acts)\n",
    "print(acts.shape)"
   ]
  },
  {
   "cell_type": "code",
   "execution_count": 51,
   "metadata": {},
   "outputs": [
    {
     "name": "stdout",
     "output_type": "stream",
     "text": [
      "(21675, 1)\n",
      "(21675, 1)\n",
      "(3826, 1)\n",
      "(3826, 1)\n"
     ]
    }
   ],
   "source": [
    "# Split data in training and test set (85%, 15%)\n",
    "X_train, X_test, y_train, y_test = sklearn.model_selection.train_test_split(acts, contents, test_size=0.15, train_size=0.85, random_state=0)\n",
    "\n",
    "# Check\n",
    "print(X_train.shape)\n",
    "print(y_train.shape)\n",
    "print(X_test.shape)\n",
    "print(y_test.shape)"
   ]
  }
 ],
 "metadata": {
  "kernelspec": {
   "display_name": "Python 3",
   "language": "python",
   "name": "python3"
  },
  "language_info": {
   "codemirror_mode": {
    "name": "ipython",
    "version": 3
   },
   "file_extension": ".py",
   "mimetype": "text/x-python",
   "name": "python",
   "nbconvert_exporter": "python",
   "pygments_lexer": "ipython3",
   "version": "3.6.9"
  }
 },
 "nbformat": 4,
 "nbformat_minor": 2
}
